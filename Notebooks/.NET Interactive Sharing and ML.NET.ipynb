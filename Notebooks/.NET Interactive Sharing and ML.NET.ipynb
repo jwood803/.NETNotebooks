{
 "cells": [
  {
   "cell_type": "markdown",
   "metadata": {},
   "source": [
    "## New .NET Interactive Features"
   ]
  },
  {
   "cell_type": "code",
   "execution_count": 1,
   "metadata": {},
   "source": [
    "var hello = \"Hello\";"
   ],
   "outputs": []
  },
  {
   "cell_type": "code",
   "execution_count": 1,
   "metadata": {},
   "source": [
    "#!fsharp\r\n",
    "#!share --from csharp hello\r\n",
    "\r\n",
    "let world = \"World\"\r\n",
    "\r\n",
    "open System\r\n",
    "\r\n",
    "Console.Write($\"{hello}, {world}\");"
   ],
   "outputs": [
    {
     "output_type": "execute_result",
     "data": {
      "text/plain": "Hello, World"
     },
     "execution_count": 1,
     "metadata": {}
    }
   ]
  },
  {
   "cell_type": "code",
   "execution_count": 1,
   "metadata": {},
   "source": [
    "#!value --name users\r\n",
    "{\r\n",
    "    \"id\": \"1\",\r\n",
    "    \"name\": \"Jon\"\r\n",
    "}"
   ],
   "outputs": []
  },
  {
   "cell_type": "code",
   "execution_count": 1,
   "metadata": {},
   "source": [
    "class Users\r\n",
    "{\r\n",
    "    public string Id { get; set; }\r\n",
    "    public string Name { get; set; }\r\n",
    "}"
   ],
   "outputs": []
  },
  {
   "cell_type": "code",
   "execution_count": 1,
   "metadata": {},
   "source": [
    "using Newtonsoft.Json;\r\n",
    "\r\n",
    "#!share users --from value\r\n",
    "\r\n",
    "var obj = JsonConvert.DeserializeObject<Users>(users);\r\n",
    "\r\n",
    "Console.Write($\"{obj.Id}, {obj.Name}\");"
   ],
   "outputs": [
    {
     "output_type": "execute_result",
     "data": {
      "text/plain": "1, Jon"
     },
     "execution_count": 1,
     "metadata": {}
    }
   ]
  },
  {
   "cell_type": "code",
   "execution_count": 1,
   "metadata": {},
   "source": [
    "#!value --from-url https://github.com --name site"
   ],
   "outputs": []
  },
  {
   "cell_type": "code",
   "execution_count": 1,
   "metadata": {},
   "source": [
    "#!share --from value site\r\n",
    "\r\n",
    "display(site, \"text/html\")"
   ],
   "outputs": []
  },
  {
   "cell_type": "markdown",
   "metadata": {},
   "source": [
    "## ML.NET Sample"
   ]
  },
  {
   "cell_type": "code",
   "execution_count": 1,
   "metadata": {},
   "source": [
    "#r \"nuget:Microsoft.ML\"\r\n",
    "#r \"nuget:Microsoft.Data.Analysis\""
   ],
   "outputs": [
    {
     "output_type": "execute_result",
     "data": {
      "text/plain": "Installed package Microsoft.Data.Analysis version 0.4.0"
     },
     "execution_count": 1,
     "metadata": {}
    },
    {
     "output_type": "execute_result",
     "data": {
      "text/plain": "Installed package Microsoft.ML version 1.5.2"
     },
     "execution_count": 1,
     "metadata": {}
    }
   ]
  },
  {
   "cell_type": "code",
   "execution_count": 1,
   "metadata": {},
   "source": [
    "using Microsoft.ML;\r\n",
    "using Microsoft.Data.Analysis;\r\n",
    "\r\n",
    "var context = new MLContext();"
   ],
   "outputs": []
  },
  {
   "cell_type": "code",
   "execution_count": 1,
   "metadata": {},
   "source": [
    "var data = DataFrame.LoadCsv(\"../Data/bank.csv\", header: true, separator: ';');"
   ],
   "outputs": []
  },
  {
   "cell_type": "code",
   "execution_count": 1,
   "metadata": {},
   "source": [
    "data.Preview().ColumnView"
   ],
   "outputs": [
    {
     "output_type": "execute_result",
     "data": {
      "text/html": "<table><thead><tr><th><i>index</i></th><th>Column</th><th>Values</th></tr></thead><tbody><tr><td>0</td><td><div class=\"dni-plaintext\">age: Single</div></td><td><div class=\"dni-plaintext\">[ 30, 33, 35, 30, 59, 35, 36, 39, 41, 43, 39, 43, 36, 20, 31, 40, 56, 37, 25, 31 ... (80 more) ]</div></td></tr><tr><td>1</td><td><div class=\"dni-plaintext\">job: String</div></td><td><div class=\"dni-plaintext\">[ unemployed, services, management, management, blue-collar, management, self-employed, technician, entrepreneur, services, services, admin., technician, student, blue-collar, management, technician, admin., blue-collar, services ... (80 more) ]</div></td></tr><tr><td>2</td><td><div class=\"dni-plaintext\">marital: String</div></td><td><div class=\"dni-plaintext\">[ married, married, single, married, married, single, married, married, married, married, married, married, married, single, married, married, married, single, single, married ... (80 more) ]</div></td></tr><tr><td>3</td><td><div class=\"dni-plaintext\">education: String</div></td><td><div class=\"dni-plaintext\">[ primary, secondary, tertiary, tertiary, secondary, tertiary, tertiary, secondary, tertiary, primary, secondary, secondary, tertiary, secondary, secondary, tertiary, secondary, tertiary, primary, secondary ... (80 more) ]</div></td></tr><tr><td>4</td><td><div class=\"dni-plaintext\">default: String</div></td><td><div class=\"dni-plaintext\">[ no, no, no, no, no, no, no, no, no, no, no, no, no, no, no, no, no, no, no, no ... (80 more) ]</div></td></tr><tr><td>5</td><td><div class=\"dni-plaintext\">balance: Single</div></td><td><div class=\"dni-plaintext\">[ 1787, 4789, 1350, 1476, 0, 747, 307, 147, 221, -88, 9374, 264, 1109, 502, 360, 194, 4073, 2317, -221, 132 ... (80 more) ]</div></td></tr><tr><td>6</td><td><div class=\"dni-plaintext\">housing: String</div></td><td><div class=\"dni-plaintext\">[ no, yes, yes, yes, yes, no, yes, yes, yes, yes, yes, yes, no, no, yes, no, no, yes, yes, no ... (80 more) ]</div></td></tr><tr><td>7</td><td><div class=\"dni-plaintext\">loan: String</div></td><td><div class=\"dni-plaintext\">[ no, yes, no, yes, no, no, no, no, no, yes, no, no, no, no, yes, yes, no, no, no, no ... (80 more) ]</div></td></tr><tr><td>8</td><td><div class=\"dni-plaintext\">contact: String</div></td><td><div class=\"dni-plaintext\">[ cellular, cellular, cellular, unknown, unknown, cellular, cellular, cellular, unknown, cellular, unknown, cellular, cellular, cellular, cellular, cellular, cellular, cellular, unknown, cellular ... (80 more) ]</div></td></tr><tr><td>9</td><td><div class=\"dni-plaintext\">day: Single</div></td><td><div class=\"dni-plaintext\">[ 19, 11, 16, 3, 5, 23, 14, 6, 14, 17, 20, 17, 13, 30, 29, 29, 27, 20, 23, 7 ... (80 more) ]</div></td></tr><tr><td>10</td><td><div class=\"dni-plaintext\">month: String</div></td><td><div class=\"dni-plaintext\">[ oct, may, apr, jun, may, feb, may, may, may, apr, may, apr, aug, apr, jan, aug, aug, apr, may, jul ... (80 more) ]</div></td></tr><tr><td>11</td><td><div class=\"dni-plaintext\">duration: Single</div></td><td><div class=\"dni-plaintext\">[ 79, 220, 185, 199, 226, 141, 341, 151, 57, 313, 273, 113, 328, 261, 89, 189, 239, 114, 250, 148 ... (80 more) ]</div></td></tr><tr><td>12</td><td><div class=\"dni-plaintext\">campaign: Single</div></td><td><div class=\"dni-plaintext\">[ 1, 1, 1, 4, 1, 2, 1, 2, 2, 1, 1, 2, 2, 1, 1, 2, 5, 1, 1, 1 ... (80 more) ]</div></td></tr><tr><td>13</td><td><div class=\"dni-plaintext\">pdays: Single</div></td><td><div class=\"dni-plaintext\">[ -1, 339, 330, -1, -1, 176, 330, -1, -1, 147, -1, -1, -1, -1, 241, -1, -1, 152, -1, 152 ... (80 more) ]</div></td></tr><tr><td>14</td><td><div class=\"dni-plaintext\">previous: Single</div></td><td><div class=\"dni-plaintext\">[ 0, 4, 1, 0, 0, 3, 2, 0, 0, 2, 0, 0, 0, 0, 1, 0, 0, 2, 0, 1 ... (80 more) ]</div></td></tr><tr><td>15</td><td><div class=\"dni-plaintext\">poutcome: String</div></td><td><div class=\"dni-plaintext\">[ unknown, failure, failure, unknown, unknown, failure, other, unknown, unknown, failure, unknown, unknown, unknown, unknown, failure, unknown, unknown, failure, unknown, other ... (80 more) ]</div></td></tr><tr><td>16</td><td><div class=\"dni-plaintext\">y: String</div></td><td><div class=\"dni-plaintext\">[ no, no, no, no, no, no, no, no, no, no, no, no, no, yes, no, no, no, no, no, no ... (80 more) ]</div></td></tr></tbody></table>"
     },
     "execution_count": 1,
     "metadata": {}
    }
   ]
  },
  {
   "cell_type": "code",
   "execution_count": 1,
   "metadata": {},
   "source": [
    "var stringColumns = data.Columns\r\n",
    "    .Select(col => col.Name)\r\n",
    "    .Where(c => !new[] { \"age\", \"balance\", \"day\", \"duration\", \"campaign\", \"pdays\", \"previous\" }.Contains(c))\r\n",
    "    .ToArray();"
   ],
   "outputs": []
  },
  {
   "cell_type": "code",
   "execution_count": 1,
   "metadata": {},
   "source": [
    "var trainTestSplit = context.Data.TrainTestSplit(data, testFraction: 0.2);"
   ],
   "outputs": []
  },
  {
   "cell_type": "code",
   "execution_count": 1,
   "metadata": {},
   "source": [
    "var textOptions = new Microsoft.ML.Transforms.Text.TextFeaturizingEstimator.Options();"
   ],
   "outputs": []
  },
  {
   "cell_type": "code",
   "execution_count": 1,
   "metadata": {},
   "source": [
    "var pipeline = context.Transforms.Conversion.ConvertType(\"Label\", \"default\", Microsoft.ML.Data.DataKind.Boolean)\r\n",
    "    .Append(context.Transforms.Text.FeaturizeText(\"Text\", textOptions, stringColumns))\r\n",
    "    .Append(context.Transforms.Concatenate(\"Features\", \"age\", \"balance\"))\r\n",
    "    .Append(context.Transforms.Concatenate(\"Features\", \"Features\", \"Text\"))\r\n",
    "    .Append(context.BinaryClassification.Trainers.LbfgsLogisticRegression());\r\n",
    "\r\n",
    "var model = pipeline.Fit(trainTestSplit.TrainSet);"
   ],
   "outputs": []
  },
  {
   "cell_type": "code",
   "execution_count": 1,
   "metadata": {},
   "source": [
    "var crossValidation = context.BinaryClassification.CrossValidate(trainTestSplit.TestSet, pipeline);"
   ],
   "outputs": []
  },
  {
   "cell_type": "code",
   "execution_count": 1,
   "metadata": {},
   "source": [
    "crossValidation.Average(cv => cv.Metrics.AreaUnderRocCurve)"
   ],
   "outputs": [
    {
     "output_type": "execute_result",
     "data": {
      "text/html": "<div class=\"dni-plaintext\">0.902135441207083</div>"
     },
     "execution_count": 1,
     "metadata": {}
    }
   ]
  },
  {
   "cell_type": "code",
   "execution_count": 1,
   "metadata": {},
   "source": [
    "class BankData\r\n",
    "{\r\n",
    "    public float age { get; set; }\r\n",
    "    public string job { get; set; }\r\n",
    "    public string marital { get; set; }\r\n",
    "    public string education { get; set; }\r\n",
    "    public string @default { get; set; }\r\n",
    "    public float balance { get; set; }\r\n",
    "    public string housing  { get; set; }\r\n",
    "    public string loan { get; set; }\r\n",
    "    public string contact { get; set; }\r\n",
    "    public float day { get; set; }\r\n",
    "    public string month { get; set; }\r\n",
    "    public float duration { get; set; }\r\n",
    "    public float campaign { get; set; }\r\n",
    "    public float pdays { get; set; }\r\n",
    "    public float previous { get; set; }\r\n",
    "    public string poutcome { get; set; }\r\n",
    "    public string y { get; set; }\r\n",
    "}\r\n",
    "\r\n",
    "class BankPrediction\r\n",
    "{\r\n",
    "    public bool PredictedLabel { get; set; }\r\n",
    "    public float Score { get; set; }\r\n",
    "}"
   ],
   "outputs": []
  },
  {
   "cell_type": "code",
   "execution_count": 1,
   "metadata": {},
   "source": [
    "var predictionEngine = context.Model.CreatePredictionEngine<BankData, BankPrediction>(model);"
   ],
   "outputs": []
  },
  {
   "cell_type": "code",
   "execution_count": 1,
   "metadata": {},
   "source": [
    "var newItem = new BankData\r\n",
    "{\r\n",
    "    age = 22,\r\n",
    "    job = \"entrepreneur\",\r\n",
    "    marital = \"single\",\r\n",
    "    education = \"primary\",\r\n",
    "    balance = -900,\r\n",
    "    housing = \"yes\",\r\n",
    "    loan = \"yes\",\r\n",
    "    contact = \"cellular\"\r\n",
    "};\r\n",
    "\r\n",
    "var anotherItem = new BankData\r\n",
    "{\r\n",
    "    age = 44,\r\n",
    "    job = \"management\",\r\n",
    "    marital = \"married\",\r\n",
    "    education = \"secondary\",\r\n",
    "    balance = 4200,\r\n",
    "    housing = \"yes\",\r\n",
    "    loan = \"no\",\r\n",
    "    contact = \"cellular\"\r\n",
    "};"
   ],
   "outputs": []
  },
  {
   "cell_type": "code",
   "execution_count": 1,
   "metadata": {},
   "source": [
    "var prediction = predictionEngine.Predict(newItem);\r\n",
    "\r\n",
    "prediction.PredictedLabel"
   ],
   "outputs": [
    {
     "output_type": "execute_result",
     "data": {
      "text/html": "<div class=\"dni-plaintext\">True</div>"
     },
     "execution_count": 1,
     "metadata": {}
    }
   ]
  },
  {
   "cell_type": "code",
   "execution_count": 1,
   "metadata": {},
   "source": [
    "var prediction1 = predictionEngine.Predict(anotherItem);\r\n",
    "\r\n",
    "prediction1.PredictedLabel"
   ],
   "outputs": [
    {
     "output_type": "execute_result",
     "data": {
      "text/html": "<div class=\"dni-plaintext\">False</div>"
     },
     "execution_count": 1,
     "metadata": {}
    }
   ]
  }
 ],
 "metadata": {
  "kernelspec": {
   "display_name": ".NET (C#)",
   "language": "C#",
   "name": ".net-csharp"
  },
  "language_info": {
   "file_extension": ".cs",
   "mimetype": "text/x-csharp",
   "name": "C#",
   "pygments_lexer": "csharp",
   "version": "8.0"
  }
 },
 "nbformat": 4,
 "nbformat_minor": 4
}